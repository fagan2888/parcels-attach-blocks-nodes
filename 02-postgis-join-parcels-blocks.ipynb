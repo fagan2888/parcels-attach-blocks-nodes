{
 "cells": [
  {
   "cell_type": "markdown",
   "metadata": {},
   "source": [
    "# Spatial join parcel IDs to census block IDs"
   ]
  },
  {
   "cell_type": "code",
   "execution_count": 1,
   "metadata": {},
   "outputs": [],
   "source": [
    "import pandas as pd\n",
    "import psycopg2\n",
    "from keys import pg_user, pg_pass, pg_host, pg_port, pg_db\n",
    "\n",
    "output_path = 'data/parcels_joined_blocks.csv'"
   ]
  },
  {
   "cell_type": "code",
   "execution_count": 2,
   "metadata": {},
   "outputs": [],
   "source": [
    "# connect to the postgres database\n",
    "connection = psycopg2.connect(database=pg_db,\n",
    "                              user=pg_user,\n",
    "                              password=pg_pass,\n",
    "                              host=pg_host,\n",
    "                              port=pg_port)\n",
    "cursor = connection.cursor()"
   ]
  },
  {
   "cell_type": "code",
   "execution_count": 3,
   "metadata": {},
   "outputs": [
    {
     "data": {
      "text/plain": [
       "[(4326, 4326)]"
      ]
     },
     "execution_count": 3,
     "metadata": {},
     "output_type": "execute_result"
    }
   ],
   "source": [
    "# verify that the SRIDs match\n",
    "cursor.execute(\"\"\"SELECT\n",
    "                      Find_SRID('public', 'blocks', 'geom') as blocks_srid,\n",
    "                      Find_SRID('public', 'parcels', 'geom') as parcels_srid\"\"\")\n",
    "cursor.fetchall()"
   ]
  },
  {
   "cell_type": "code",
   "execution_count": 4,
   "metadata": {},
   "outputs": [
    {
     "data": {
      "text/plain": [
       "(710145, 1956207)"
      ]
     },
     "execution_count": 4,
     "metadata": {},
     "output_type": "execute_result"
    }
   ],
   "source": [
    "# joining how many rows to how many rows?\n",
    "cursor.execute(\"SELECT count(*) AS row_count FROM blocks\")\n",
    "count_blocks_table = cursor.fetchall()[0][0]\n",
    "cursor.execute(\"SELECT count(*) AS row_count FROM parcels\")\n",
    "count_parcels_table = cursor.fetchall()[0][0]\n",
    "count_blocks_table, count_parcels_table"
   ]
  },
  {
   "cell_type": "markdown",
   "metadata": {},
   "source": [
    "## Do the spatial join"
   ]
  },
  {
   "cell_type": "code",
   "execution_count": 5,
   "metadata": {},
   "outputs": [
    {
     "name": "stdout",
     "output_type": "stream",
     "text": [
      "Wall time: 2min 37s\n"
     ]
    }
   ],
   "source": [
    "%%time\n",
    "# drop the table if it already exists and recreate it\n",
    "# select distinct to keep only 1 parcel/block pair if parcel centroid lies on border of multiple blocks\n",
    "query = \"\"\"\n",
    "        DROP TABLE IF EXISTS parcels_blocks;\n",
    "        CREATE TABLE parcels_blocks AS\n",
    "        SELECT DISTINCT ON (id)\n",
    "            parcels.id AS id,\n",
    "            parcels.parcel_id AS parcel_id,\n",
    "            blocks.geoid AS block_geoid\n",
    "        FROM parcels LEFT JOIN blocks\n",
    "        ON ST_Intersects(parcels.geom, blocks.geom)\n",
    "        \"\"\"\n",
    "\n",
    "cursor.execute(query)\n",
    "connection.commit()"
   ]
  },
  {
   "cell_type": "code",
   "execution_count": 6,
   "metadata": {},
   "outputs": [
    {
     "name": "stdout",
     "output_type": "stream",
     "text": [
      "Wall time: 6.04 s\n"
     ]
    }
   ],
   "source": [
    "%%time\n",
    "# vacuum and analyze the database to optimize it after creating new table\n",
    "old_isolation_level = connection.isolation_level\n",
    "connection.set_isolation_level(0)\n",
    "cursor.execute(\"VACUUM ANALYZE\")\n",
    "connection.commit()\n",
    "connection.set_isolation_level(old_isolation_level)"
   ]
  },
  {
   "cell_type": "markdown",
   "metadata": {},
   "source": [
    "## Retrieve the joined data"
   ]
  },
  {
   "cell_type": "code",
   "execution_count": 7,
   "metadata": {},
   "outputs": [
    {
     "name": "stdout",
     "output_type": "stream",
     "text": [
      "1956207\n"
     ]
    },
    {
     "data": {
      "text/plain": [
       "[(1956207, 1956207)]"
      ]
     },
     "execution_count": 7,
     "metadata": {},
     "output_type": "execute_result"
    }
   ],
   "source": [
    "# do all parcels have a block geoid?\n",
    "cursor.execute(\"SELECT count(*) AS row_count, count(block_geoid) AS geoid_count FROM parcels_blocks\")\n",
    "print(count_parcels_table)\n",
    "cursor.fetchall()"
   ]
  },
  {
   "cell_type": "code",
   "execution_count": 8,
   "metadata": {},
   "outputs": [
    {
     "name": "stdout",
     "output_type": "stream",
     "text": [
      "Wall time: 1.22 s\n"
     ]
    }
   ],
   "source": [
    "%%time\n",
    "# select the results from the new table, ignoring any parcels with null block_geoid\n",
    "cursor.execute(\"\"\"SELECT parcel_id, block_geoid\n",
    "                  FROM parcels_blocks\n",
    "                  WHERE block_geoid IS NOT NULL\"\"\")\n",
    "rows = cursor.fetchall()"
   ]
  },
  {
   "cell_type": "code",
   "execution_count": 9,
   "metadata": {},
   "outputs": [],
   "source": [
    "# all done, close the database connection\n",
    "cursor.close()\n",
    "connection.close()"
   ]
  },
  {
   "cell_type": "markdown",
   "metadata": {},
   "source": [
    "## Work with the results"
   ]
  },
  {
   "cell_type": "code",
   "execution_count": 10,
   "metadata": {},
   "outputs": [
    {
     "data": {
      "text/plain": [
       "1956207"
      ]
     },
     "execution_count": 10,
     "metadata": {},
     "output_type": "execute_result"
    }
   ],
   "source": [
    "# turn the selected rows into a dataframe\n",
    "df = pd.DataFrame(rows, columns=['parcel_id', 'block_geoid'])\n",
    "assert len(df) == count_parcels_table\n",
    "len(df)"
   ]
  },
  {
   "cell_type": "code",
   "execution_count": 11,
   "metadata": {},
   "outputs": [
    {
     "data": {
      "text/html": [
       "<div>\n",
       "<style scoped>\n",
       "    .dataframe tbody tr th:only-of-type {\n",
       "        vertical-align: middle;\n",
       "    }\n",
       "\n",
       "    .dataframe tbody tr th {\n",
       "        vertical-align: top;\n",
       "    }\n",
       "\n",
       "    .dataframe thead th {\n",
       "        text-align: right;\n",
       "    }\n",
       "</style>\n",
       "<table border=\"1\" class=\"dataframe\">\n",
       "  <thead>\n",
       "    <tr style=\"text-align: right;\">\n",
       "      <th></th>\n",
       "      <th>parcel_id</th>\n",
       "      <th>block_geoid</th>\n",
       "    </tr>\n",
       "  </thead>\n",
       "  <tbody>\n",
       "    <tr>\n",
       "      <th>0</th>\n",
       "      <td>229116</td>\n",
       "      <td>060014511022061</td>\n",
       "    </tr>\n",
       "    <tr>\n",
       "      <th>1</th>\n",
       "      <td>244166</td>\n",
       "      <td>060014511011025</td>\n",
       "    </tr>\n",
       "    <tr>\n",
       "      <th>2</th>\n",
       "      <td>202378</td>\n",
       "      <td>060014351031029</td>\n",
       "    </tr>\n",
       "    <tr>\n",
       "      <th>3</th>\n",
       "      <td>2004420</td>\n",
       "      <td>060971541003180</td>\n",
       "    </tr>\n",
       "    <tr>\n",
       "      <th>4</th>\n",
       "      <td>340332</td>\n",
       "      <td>060014419272014</td>\n",
       "    </tr>\n",
       "  </tbody>\n",
       "</table>\n",
       "</div>"
      ],
      "text/plain": [
       "   parcel_id      block_geoid\n",
       "0     229116  060014511022061\n",
       "1     244166  060014511011025\n",
       "2     202378  060014351031029\n",
       "3    2004420  060971541003180\n",
       "4     340332  060014419272014"
      ]
     },
     "execution_count": 11,
     "metadata": {},
     "output_type": "execute_result"
    }
   ],
   "source": [
    "df.head()"
   ]
  },
  {
   "cell_type": "code",
   "execution_count": 12,
   "metadata": {},
   "outputs": [],
   "source": [
    "df.to_csv(output_path, index=False, encoding='utf-8')"
   ]
  },
  {
   "cell_type": "code",
   "execution_count": null,
   "metadata": {},
   "outputs": [],
   "source": []
  }
 ],
 "metadata": {
  "kernelspec": {
   "display_name": "Python 3",
   "language": "python",
   "name": "python3"
  },
  "language_info": {
   "codemirror_mode": {
    "name": "ipython",
    "version": 3
   },
   "file_extension": ".py",
   "mimetype": "text/x-python",
   "name": "python",
   "nbconvert_exporter": "python",
   "pygments_lexer": "ipython3",
   "version": "3.6.4"
  }
 },
 "nbformat": 4,
 "nbformat_minor": 2
}
