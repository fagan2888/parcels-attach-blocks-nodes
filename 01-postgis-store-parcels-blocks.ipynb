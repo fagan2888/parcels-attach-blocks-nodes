{
 "cells": [
  {
   "cell_type": "markdown",
   "metadata": {},
   "source": [
    "# Store parcels and blocks data in Postgres database\n",
    "\n",
    "for a fast spatial-join of parcels to blocks.\n",
    "\n",
    "First, create the database from terminal if it doesn't already exist:\n",
    "\n",
    "```\n",
    "createdb -U postgres parcels_blocks\n",
    "psql -U postgres -d parcels_blocks -c \"CREATE EXTENSION postgis;\"\n",
    "```\n",
    "\n",
    "Save postgres username, password, host, port, and database name in keys.py. Then open the parcels and blocks shapefiles, then load each into tables in a PostGIS enabled database."
   ]
  },
  {
   "cell_type": "code",
   "execution_count": 1,
   "metadata": {},
   "outputs": [],
   "source": [
    "import geopandas as gpd\n",
    "import psycopg2\n",
    "\n",
    "# postgres info is stored in keys.py\n",
    "from keys import pg_user, pg_pass, pg_host, pg_port, pg_db\n",
    "\n",
    "crs = {'init':'epsg:4326'}"
   ]
  },
  {
   "cell_type": "markdown",
   "metadata": {},
   "source": [
    "## Load and project the spatial data"
   ]
  },
  {
   "cell_type": "code",
   "execution_count": 2,
   "metadata": {},
   "outputs": [
    {
     "name": "stdout",
     "output_type": "stream",
     "text": [
      "710145\n",
      "Wall time: 2min 12s\n"
     ]
    }
   ],
   "source": [
    "%%time\n",
    "# load blocks shapefile and project to 4326\n",
    "blocks = gpd.read_file('data/tl_2010_06_tabblock10/')\n",
    "blocks = blocks.to_crs(crs)\n",
    "print(len(blocks))"
   ]
  },
  {
   "cell_type": "code",
   "execution_count": 3,
   "metadata": {},
   "outputs": [
    {
     "name": "stdout",
     "output_type": "stream",
     "text": [
      "1956207\n",
      "Wall time: 5min 36s\n"
     ]
    }
   ],
   "source": [
    "%%time\n",
    "# load parcels shapefile, drop any that lack geometry, and project to 4326\n",
    "parcels = gpd.read_file('data/Parcels/')\n",
    "parcels = parcels.dropna(subset=['geometry'])\n",
    "parcels = parcels.to_crs(crs)\n",
    "print(len(parcels))"
   ]
  },
  {
   "cell_type": "code",
   "execution_count": 4,
   "metadata": {},
   "outputs": [
    {
     "data": {
      "text/plain": [
       "'4326'"
      ]
     },
     "execution_count": 4,
     "metadata": {},
     "output_type": "execute_result"
    }
   ],
   "source": [
    "# srid is the numeric spatial reference ID that PostGIS uses\n",
    "assert crs == blocks.crs == parcels.crs\n",
    "srid = crs['init'].strip('epsg:')\n",
    "srid"
   ]
  },
  {
   "cell_type": "markdown",
   "metadata": {},
   "source": [
    "## Clean up the parcels data"
   ]
  },
  {
   "cell_type": "code",
   "execution_count": 5,
   "metadata": {},
   "outputs": [],
   "source": [
    "# convert integer columns to int\n",
    "to_int = ['PARCEL_ID', 'DEVELOPMEN', 'COUNTY_ID', 'ZONE_ID', 'PROPORTION', 'TAX_EXEMPT', 'ID']\n",
    "for col in to_int:\n",
    "    parcels[col] = parcels[col].astype(int)"
   ]
  },
  {
   "cell_type": "code",
   "execution_count": 6,
   "metadata": {},
   "outputs": [],
   "source": [
    "# drop unused columns and calculate centroids\n",
    "parcels = parcels.drop(columns=['CENTROID', 'X', 'Y'])\n",
    "parcels['centroid'] = parcels.centroid"
   ]
  },
  {
   "cell_type": "markdown",
   "metadata": {},
   "source": [
    "## Insert blocks and parcels into PostGIS database"
   ]
  },
  {
   "cell_type": "code",
   "execution_count": 7,
   "metadata": {},
   "outputs": [],
   "source": [
    "# connect to the postgres database\n",
    "connection = psycopg2.connect(database=pg_db,\n",
    "                              user=pg_user,\n",
    "                              password=pg_pass,\n",
    "                              host=pg_host,\n",
    "                              port=pg_port)\n",
    "cursor = connection.cursor()"
   ]
  },
  {
   "cell_type": "code",
   "execution_count": 8,
   "metadata": {},
   "outputs": [
    {
     "data": {
      "text/plain": [
       "[('spatial_ref_sys',), ('blocks',), ('parcels',)]"
      ]
     },
     "execution_count": 8,
     "metadata": {},
     "output_type": "execute_result"
    }
   ],
   "source": [
    "# list all tables\n",
    "cursor.execute(\"select relname from pg_class where relkind='r' and relname !~ '^(pg_|sql_)'\")\n",
    "cursor.fetchall()"
   ]
  },
  {
   "cell_type": "markdown",
   "metadata": {},
   "source": [
    "### add blocks table and data"
   ]
  },
  {
   "cell_type": "code",
   "execution_count": 9,
   "metadata": {},
   "outputs": [],
   "source": [
    "# drop blocks table if it already exists, then create blocks table\n",
    "cursor.execute(\"DROP TABLE IF EXISTS blocks\")\n",
    "cursor.execute(\"\"\"CREATE TABLE blocks (id SERIAL PRIMARY KEY,\n",
    "                                       geoid VARCHAR NOT NULL)\"\"\")\n",
    "cursor.execute(\"SELECT AddGeometryColumn ('blocks', 'geom', %s, 'MULTIPOLYGON', 2)\", [srid])\n",
    "cursor.execute(\"CREATE INDEX block_index ON blocks USING GIST(geom)\")\n",
    "connection.commit()"
   ]
  },
  {
   "cell_type": "code",
   "execution_count": 10,
   "metadata": {},
   "outputs": [
    {
     "name": "stdout",
     "output_type": "stream",
     "text": [
      "Wall time: 6min 49s\n"
     ]
    }
   ],
   "source": [
    "%%time\n",
    "cursor.execute(\"DELETE FROM blocks\")\n",
    "\n",
    "# insert each block into the blocks table one at a time\n",
    "for label, row in blocks.iterrows():\n",
    "    geoid = row['GEOID10']\n",
    "    geometry_wkt = row['geometry'].wkt\n",
    "    \n",
    "    query = \"\"\"INSERT INTO blocks (geoid, geom) \n",
    "               VALUES (%s, ST_Multi(ST_GeomFromText(%s, %s)))\"\"\"\n",
    "    data = (geoid, geometry_wkt, srid)\n",
    "    cursor.execute(query, data)\n",
    "\n",
    "connection.commit()"
   ]
  },
  {
   "cell_type": "markdown",
   "metadata": {},
   "source": [
    "### add parcels table and data"
   ]
  },
  {
   "cell_type": "code",
   "execution_count": 11,
   "metadata": {},
   "outputs": [],
   "source": [
    "# drop parcels table if it already exists, then create parcels table\n",
    "cursor.execute(\"DROP TABLE IF EXISTS parcels\")\n",
    "cursor.execute(\"\"\"CREATE TABLE parcels (id SERIAL PRIMARY KEY,\n",
    "                                        parcel_id INTEGER NOT NULL)\"\"\")\n",
    "cursor.execute(\"SELECT AddGeometryColumn ('parcels', 'geom', %s, 'POINT', 2)\", [srid])\n",
    "cursor.execute(\"CREATE INDEX parcel_index ON parcels USING GIST(geom)\")\n",
    "connection.commit()"
   ]
  },
  {
   "cell_type": "code",
   "execution_count": 12,
   "metadata": {},
   "outputs": [
    {
     "name": "stdout",
     "output_type": "stream",
     "text": [
      "Wall time: 10min 9s\n"
     ]
    }
   ],
   "source": [
    "%%time\n",
    "cursor.execute(\"DELETE FROM parcels\")\n",
    "\n",
    "# insert each parcel into the parcels table one at a time\n",
    "for label, row in parcels.iterrows():\n",
    "    parcel_id = row['PARCEL_ID']\n",
    "    geometry_wkt = row['centroid'].wkt\n",
    "    \n",
    "    query = \"\"\"\n",
    "            INSERT INTO parcels (parcel_id, geom)\n",
    "            VALUES (%s, ST_GeomFromText(%s, %s))\n",
    "            \"\"\"\n",
    "    data = (parcel_id, geometry_wkt, srid)\n",
    "    cursor.execute(query, data)\n",
    "\n",
    "connection.commit()"
   ]
  },
  {
   "cell_type": "markdown",
   "metadata": {},
   "source": [
    "### optimize the database"
   ]
  },
  {
   "cell_type": "code",
   "execution_count": 13,
   "metadata": {},
   "outputs": [
    {
     "name": "stdout",
     "output_type": "stream",
     "text": [
      "Wall time: 1.33 s\n"
     ]
    }
   ],
   "source": [
    "%%time\n",
    "# vacuum and analyze the database to optimize it after building indices and inserting rows\n",
    "original_isolation_level = connection.isolation_level\n",
    "connection.set_isolation_level(0)\n",
    "cursor.execute(\"VACUUM ANALYZE\")\n",
    "connection.commit()\n",
    "connection.set_isolation_level(original_isolation_level)"
   ]
  },
  {
   "cell_type": "markdown",
   "metadata": {},
   "source": [
    "## Verify the data insertion"
   ]
  },
  {
   "cell_type": "code",
   "execution_count": 14,
   "metadata": {},
   "outputs": [
    {
     "data": {
      "text/plain": [
       "[(4326, 4326)]"
      ]
     },
     "execution_count": 14,
     "metadata": {},
     "output_type": "execute_result"
    }
   ],
   "source": [
    "# verify the SRIDs\n",
    "cursor.execute(\"\"\"SELECT\n",
    "                  Find_SRID('public', 'blocks', 'geom') as blocks_srid,\n",
    "                  Find_SRID('public', 'parcels', 'geom') as parcels_srid\"\"\")\n",
    "cursor.fetchall()"
   ]
  },
  {
   "cell_type": "markdown",
   "metadata": {},
   "source": [
    "### verify the blocks"
   ]
  },
  {
   "cell_type": "code",
   "execution_count": 15,
   "metadata": {},
   "outputs": [
    {
     "data": {
      "text/plain": [
       "710145"
      ]
     },
     "execution_count": 15,
     "metadata": {},
     "output_type": "execute_result"
    }
   ],
   "source": [
    "cursor.execute(\"SELECT count(*) AS exact_count FROM blocks\")\n",
    "rows = cursor.fetchall()\n",
    "rows[0][0]"
   ]
  },
  {
   "cell_type": "code",
   "execution_count": 16,
   "metadata": {},
   "outputs": [
    {
     "data": {
      "text/html": [
       "<div>\n",
       "<style scoped>\n",
       "    .dataframe tbody tr th:only-of-type {\n",
       "        vertical-align: middle;\n",
       "    }\n",
       "\n",
       "    .dataframe tbody tr th {\n",
       "        vertical-align: top;\n",
       "    }\n",
       "\n",
       "    .dataframe thead th {\n",
       "        text-align: right;\n",
       "    }\n",
       "</style>\n",
       "<table border=\"1\" class=\"dataframe\">\n",
       "  <thead>\n",
       "    <tr style=\"text-align: right;\">\n",
       "      <th></th>\n",
       "      <th>GEOID</th>\n",
       "      <th>geometry</th>\n",
       "    </tr>\n",
       "  </thead>\n",
       "  <tbody>\n",
       "    <tr>\n",
       "      <th>0</th>\n",
       "      <td>060014100002024</td>\n",
       "      <td>MULTIPOLYGON(((-122.124886 37.751635,-122.1247...</td>\n",
       "    </tr>\n",
       "    <tr>\n",
       "      <th>1</th>\n",
       "      <td>060014073002017</td>\n",
       "      <td>MULTIPOLYGON(((-122.210245 37.770097,-122.2101...</td>\n",
       "    </tr>\n",
       "    <tr>\n",
       "      <th>2</th>\n",
       "      <td>060014081002011</td>\n",
       "      <td>MULTIPOLYGON(((-122.18212 37.794933,-122.18183...</td>\n",
       "    </tr>\n",
       "  </tbody>\n",
       "</table>\n",
       "</div>"
      ],
      "text/plain": [
       "             GEOID                                           geometry\n",
       "0  060014100002024  MULTIPOLYGON(((-122.124886 37.751635,-122.1247...\n",
       "1  060014073002017  MULTIPOLYGON(((-122.210245 37.770097,-122.2101...\n",
       "2  060014081002011  MULTIPOLYGON(((-122.18212 37.794933,-122.18183..."
      ]
     },
     "execution_count": 16,
     "metadata": {},
     "output_type": "execute_result"
    }
   ],
   "source": [
    "cursor.execute(\"SELECT geoid, ST_AsText(geom) FROM blocks LIMIT 3\")\n",
    "rows = cursor.fetchall()\n",
    "gpd.GeoDataFrame(rows, columns=['GEOID', 'geometry'])"
   ]
  },
  {
   "cell_type": "markdown",
   "metadata": {},
   "source": [
    "### verify the parcels"
   ]
  },
  {
   "cell_type": "code",
   "execution_count": 17,
   "metadata": {},
   "outputs": [
    {
     "data": {
      "text/plain": [
       "1956207"
      ]
     },
     "execution_count": 17,
     "metadata": {},
     "output_type": "execute_result"
    }
   ],
   "source": [
    "cursor.execute(\"SELECT count(*) AS exact_count FROM parcels\")\n",
    "rows = cursor.fetchall()\n",
    "rows[0][0]"
   ]
  },
  {
   "cell_type": "code",
   "execution_count": 18,
   "metadata": {},
   "outputs": [
    {
     "data": {
      "text/html": [
       "<div>\n",
       "<style scoped>\n",
       "    .dataframe tbody tr th:only-of-type {\n",
       "        vertical-align: middle;\n",
       "    }\n",
       "\n",
       "    .dataframe tbody tr th {\n",
       "        vertical-align: top;\n",
       "    }\n",
       "\n",
       "    .dataframe thead th {\n",
       "        text-align: right;\n",
       "    }\n",
       "</style>\n",
       "<table border=\"1\" class=\"dataframe\">\n",
       "  <thead>\n",
       "    <tr style=\"text-align: right;\">\n",
       "      <th></th>\n",
       "      <th>parcel_id</th>\n",
       "      <th>geometry</th>\n",
       "    </tr>\n",
       "  </thead>\n",
       "  <tbody>\n",
       "    <tr>\n",
       "      <th>0</th>\n",
       "      <td>229116</td>\n",
       "      <td>POINT(-121.79562028956 37.6553791226699)</td>\n",
       "    </tr>\n",
       "    <tr>\n",
       "      <th>1</th>\n",
       "      <td>244166</td>\n",
       "      <td>POINT(-121.713003932049 37.7172768065733)</td>\n",
       "    </tr>\n",
       "    <tr>\n",
       "      <th>2</th>\n",
       "      <td>202378</td>\n",
       "      <td>POINT(-122.014198767807 37.6552595604717)</td>\n",
       "    </tr>\n",
       "  </tbody>\n",
       "</table>\n",
       "</div>"
      ],
      "text/plain": [
       "   parcel_id                                   geometry\n",
       "0     229116   POINT(-121.79562028956 37.6553791226699)\n",
       "1     244166  POINT(-121.713003932049 37.7172768065733)\n",
       "2     202378  POINT(-122.014198767807 37.6552595604717)"
      ]
     },
     "execution_count": 18,
     "metadata": {},
     "output_type": "execute_result"
    }
   ],
   "source": [
    "cursor.execute(\"\"\"SELECT parcel_id, ST_AsText(geom)\n",
    "                  FROM parcels LIMIT 3\"\"\")\n",
    "rows = cursor.fetchall()\n",
    "gpd.GeoDataFrame(rows, columns=['parcel_id', 'geometry'])"
   ]
  },
  {
   "cell_type": "markdown",
   "metadata": {},
   "source": [
    "## All done"
   ]
  },
  {
   "cell_type": "code",
   "execution_count": 19,
   "metadata": {},
   "outputs": [],
   "source": [
    "cursor.close()\n",
    "connection.close()"
   ]
  },
  {
   "cell_type": "code",
   "execution_count": null,
   "metadata": {},
   "outputs": [],
   "source": []
  }
 ],
 "metadata": {
  "kernelspec": {
   "display_name": "Python 3",
   "language": "python",
   "name": "python3"
  },
  "language_info": {
   "codemirror_mode": {
    "name": "ipython",
    "version": 3
   },
   "file_extension": ".py",
   "mimetype": "text/x-python",
   "name": "python",
   "nbconvert_exporter": "python",
   "pygments_lexer": "ipython3",
   "version": "3.6.4"
  }
 },
 "nbformat": 4,
 "nbformat_minor": 2
}
